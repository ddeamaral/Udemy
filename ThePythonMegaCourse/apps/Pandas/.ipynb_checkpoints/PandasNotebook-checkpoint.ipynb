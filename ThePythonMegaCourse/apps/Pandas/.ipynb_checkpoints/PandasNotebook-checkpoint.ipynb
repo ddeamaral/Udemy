{
 "cells": [
  {
   "cell_type": "code",
   "execution_count": 6,
   "metadata": {},
   "outputs": [],
   "source": [
    "import pandas\n",
    "\n",
    "df = pandas.read_csv(\"/home/dylan/udemy/ThePythonMegaCourse/apps/Pandas/supermarkets.csv\")\n",
    "\n",
    "df"
   ]
  }
 ],
 "metadata": {
  "kernelspec": {
   "display_name": "Python 3",
   "language": "python",
   "name": "python3"
  }
 },
 "nbformat": 4,
 "nbformat_minor": 2
}
